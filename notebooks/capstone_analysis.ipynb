{
 "cells": [
  {
   "cell_type": "markdown",
   "id": "668b47da",
   "metadata": {},
   "source": [
    "# Data Cleaning and Feature Generation"
   ]
  },
  {
   "cell_type": "code",
   "execution_count": 1,
   "id": "d659a8b2",
   "metadata": {},
   "outputs": [],
   "source": [
    "import pandas as pd\n",
    "import seaborn as sns\n",
    "import numpy as np\n",
    "from matplotlib import pyplot as pyplot\n",
    "import datetime\n",
    "import textstat\n"
   ]
  },
  {
   "cell_type": "code",
   "execution_count": 2,
   "id": "b9f61c0d",
   "metadata": {},
   "outputs": [
    {
     "data": {
      "text/html": [
       "<div>\n",
       "<style scoped>\n",
       "    .dataframe tbody tr th:only-of-type {\n",
       "        vertical-align: middle;\n",
       "    }\n",
       "\n",
       "    .dataframe tbody tr th {\n",
       "        vertical-align: top;\n",
       "    }\n",
       "\n",
       "    .dataframe thead th {\n",
       "        text-align: right;\n",
       "    }\n",
       "</style>\n",
       "<table border=\"1\" class=\"dataframe\">\n",
       "  <thead>\n",
       "    <tr style=\"text-align: right;\">\n",
       "      <th></th>\n",
       "      <th>article_url</th>\n",
       "      <th>author</th>\n",
       "      <th>claps</th>\n",
       "      <th>publication</th>\n",
       "      <th>published_date</th>\n",
       "      <th>read_time</th>\n",
       "      <th>responses</th>\n",
       "      <th>subtitle</th>\n",
       "      <th>title</th>\n",
       "    </tr>\n",
       "  </thead>\n",
       "  <tbody>\n",
       "    <tr>\n",
       "      <th>0</th>\n",
       "      <td>https://medium.com/swlh/10-bestseller-books-to...</td>\n",
       "      <td>Som Bathla</td>\n",
       "      <td>730</td>\n",
       "      <td>The Startup</td>\n",
       "      <td>1.514765e+12</td>\n",
       "      <td>11</td>\n",
       "      <td>3</td>\n",
       "      <td>NaN</td>\n",
       "      <td>10 Wonderful Books That Will Massively Improve...</td>\n",
       "    </tr>\n",
       "    <tr>\n",
       "      <th>1</th>\n",
       "      <td>https://medium.com/swlh/how-i-switched-from-io...</td>\n",
       "      <td>Maciej Lipiec</td>\n",
       "      <td>2000</td>\n",
       "      <td>The Startup</td>\n",
       "      <td>1.514765e+12</td>\n",
       "      <td>6</td>\n",
       "      <td>19</td>\n",
       "      <td>NaN</td>\n",
       "      <td>How I Switched from iOS to Android and I’m Enj...</td>\n",
       "    </tr>\n",
       "    <tr>\n",
       "      <th>2</th>\n",
       "      <td>https://medium.com/swlh/i-launched-a-tech-star...</td>\n",
       "      <td>Paul Lemley</td>\n",
       "      <td>1300</td>\n",
       "      <td>The Startup</td>\n",
       "      <td>1.514765e+12</td>\n",
       "      <td>18</td>\n",
       "      <td>9</td>\n",
       "      <td>NaN</td>\n",
       "      <td>I Launched A Tech Startup In 2017: Here’s Ever...</td>\n",
       "    </tr>\n",
       "    <tr>\n",
       "      <th>3</th>\n",
       "      <td>https://medium.com/swlh/how-airbnb-is-putting-...</td>\n",
       "      <td>Clark Boyd</td>\n",
       "      <td>973</td>\n",
       "      <td>The Startup</td>\n",
       "      <td>1.514765e+12</td>\n",
       "      <td>8</td>\n",
       "      <td>4</td>\n",
       "      <td>NaN</td>\n",
       "      <td>How Airbnb is putting AMP at the core of its d...</td>\n",
       "    </tr>\n",
       "    <tr>\n",
       "      <th>4</th>\n",
       "      <td>https://medium.com/swlh/if-you-arent-doing-the...</td>\n",
       "      <td>Aram Rasa Taghavi</td>\n",
       "      <td>884</td>\n",
       "      <td>The Startup</td>\n",
       "      <td>1.514765e+12</td>\n",
       "      <td>9</td>\n",
       "      <td>7</td>\n",
       "      <td>NaN</td>\n",
       "      <td>If You Aren’t Doing These 7 Things, You’re On ...</td>\n",
       "    </tr>\n",
       "  </tbody>\n",
       "</table>\n",
       "</div>"
      ],
      "text/plain": [
       "                                         article_url             author  \\\n",
       "0  https://medium.com/swlh/10-bestseller-books-to...         Som Bathla   \n",
       "1  https://medium.com/swlh/how-i-switched-from-io...      Maciej Lipiec   \n",
       "2  https://medium.com/swlh/i-launched-a-tech-star...        Paul Lemley   \n",
       "3  https://medium.com/swlh/how-airbnb-is-putting-...         Clark Boyd   \n",
       "4  https://medium.com/swlh/if-you-arent-doing-the...  Aram Rasa Taghavi   \n",
       "\n",
       "   claps  publication  published_date  read_time responses subtitle  \\\n",
       "0    730  The Startup    1.514765e+12         11         3      NaN   \n",
       "1   2000  The Startup    1.514765e+12          6        19      NaN   \n",
       "2   1300  The Startup    1.514765e+12         18         9      NaN   \n",
       "3    973  The Startup    1.514765e+12          8         4      NaN   \n",
       "4    884  The Startup    1.514765e+12          9         7      NaN   \n",
       "\n",
       "                                               title  \n",
       "0  10 Wonderful Books That Will Massively Improve...  \n",
       "1  How I Switched from iOS to Android and I’m Enj...  \n",
       "2  I Launched A Tech Startup In 2017: Here’s Ever...  \n",
       "3  How Airbnb is putting AMP at the core of its d...  \n",
       "4  If You Aren’t Doing These 7 Things, You’re On ...  "
      ]
     },
     "execution_count": 2,
     "metadata": {},
     "output_type": "execute_result"
    }
   ],
   "source": [
    "raw_data = pd.read_csv('../data/raw/capstone_raw.csv', usecols=range(2,11))\n",
    "raw_data.head()"
   ]
  },
  {
   "cell_type": "code",
   "execution_count": 3,
   "id": "29fcd2fe",
   "metadata": {},
   "outputs": [
    {
     "name": "stdout",
     "output_type": "stream",
     "text": [
      "<class 'pandas.core.frame.DataFrame'>\n",
      "RangeIndex: 44909 entries, 0 to 44908\n",
      "Data columns (total 9 columns):\n",
      " #   Column          Non-Null Count  Dtype  \n",
      "---  ------          --------------  -----  \n",
      " 0   article_url     44898 non-null  object \n",
      " 1   author          44382 non-null  object \n",
      " 2   claps           44909 non-null  int64  \n",
      " 3   publication     44909 non-null  object \n",
      " 4   published_date  44909 non-null  float64\n",
      " 5   read_time       44909 non-null  int64  \n",
      " 6   responses       44909 non-null  object \n",
      " 7   subtitle        5776 non-null   object \n",
      " 8   title           44787 non-null  object \n",
      "dtypes: float64(1), int64(2), object(6)\n",
      "memory usage: 3.1+ MB\n"
     ]
    }
   ],
   "source": [
    "raw_data.info()"
   ]
  },
  {
   "cell_type": "code",
   "execution_count": 4,
   "id": "06f49b34",
   "metadata": {},
   "outputs": [],
   "source": [
    "raw_data.dropna(subset=(['title']), inplace=True)\n",
    "cleaned_data = raw_data.copy()\n",
    "cleaned_data['published_date'] = cleaned_data['published_date'].map(lambda x: datetime.datetime.fromtimestamp(int(float(x) / 1000.0)))\n",
    "cleaned_data['author'].fillna('', inplace=True)\n",
    "cleaned_data['subtitle'].fillna('', inplace=True)\n",
    "cleaned_data['combined_titles'] = (cleaned_data.title + cleaned_data.subtitle).str.strip()\n",
    "cleaned_data['flesch_kincaid_grade_level'] = cleaned_data['combined_titles'].map(lambda x: textstat.flesch_kincaid_grade(x))\n",
    "cleaned_data['years'] = cleaned_data['published_date'].apply(lambda x: x.year)\n",
    "cleaned_data['months'] = cleaned_data['published_date'].apply(lambda x: x.month)\n",
    "\n",
    "cleaned_data.drop(cleaned_data[cleaned_data['years'] == 2017 ].index, inplace=True)\n",
    "cleaned_data['responses'] = pd.to_numeric(cleaned_data['responses'], errors='coerce')\n"
   ]
  },
  {
   "cell_type": "code",
   "execution_count": 5,
   "id": "99cb329f",
   "metadata": {},
   "outputs": [
    {
     "data": {
      "text/html": [
       "<div>\n",
       "<style scoped>\n",
       "    .dataframe tbody tr th:only-of-type {\n",
       "        vertical-align: middle;\n",
       "    }\n",
       "\n",
       "    .dataframe tbody tr th {\n",
       "        vertical-align: top;\n",
       "    }\n",
       "\n",
       "    .dataframe thead th {\n",
       "        text-align: right;\n",
       "    }\n",
       "</style>\n",
       "<table border=\"1\" class=\"dataframe\">\n",
       "  <thead>\n",
       "    <tr style=\"text-align: right;\">\n",
       "      <th></th>\n",
       "      <th>article_url</th>\n",
       "      <th>author</th>\n",
       "      <th>claps</th>\n",
       "      <th>publication</th>\n",
       "      <th>published_date</th>\n",
       "      <th>read_time</th>\n",
       "      <th>responses</th>\n",
       "      <th>subtitle</th>\n",
       "      <th>title</th>\n",
       "      <th>combined_titles</th>\n",
       "      <th>flesch_kincaid_grade_level</th>\n",
       "      <th>years</th>\n",
       "      <th>months</th>\n",
       "    </tr>\n",
       "  </thead>\n",
       "  <tbody>\n",
       "    <tr>\n",
       "      <th>27</th>\n",
       "      <td>https://medium.com/swlh/playing-with-word-vect...</td>\n",
       "      <td>Martin Konicek</td>\n",
       "      <td>1600</td>\n",
       "      <td>The Startup</td>\n",
       "      <td>2018-01-23 19:00:00</td>\n",
       "      <td>9</td>\n",
       "      <td>16.0</td>\n",
       "      <td></td>\n",
       "      <td>Playing with word vectors</td>\n",
       "      <td>Playing with word vectors</td>\n",
       "      <td>1.3</td>\n",
       "      <td>2018</td>\n",
       "      <td>1</td>\n",
       "    </tr>\n",
       "    <tr>\n",
       "      <th>28</th>\n",
       "      <td>https://medium.com/swlh/the-ultimate-guide-to-...</td>\n",
       "      <td>Fran Conejos</td>\n",
       "      <td>1400</td>\n",
       "      <td>The Startup</td>\n",
       "      <td>2018-01-23 19:00:00</td>\n",
       "      <td>11</td>\n",
       "      <td>13.0</td>\n",
       "      <td></td>\n",
       "      <td>The Ultimate Guide to Chatbots for Lead Genera...</td>\n",
       "      <td>The Ultimate Guide to Chatbots for Lead Genera...</td>\n",
       "      <td>8.8</td>\n",
       "      <td>2018</td>\n",
       "      <td>1</td>\n",
       "    </tr>\n",
       "    <tr>\n",
       "      <th>29</th>\n",
       "      <td>https://medium.com/swlh/one-year-of-coding-got...</td>\n",
       "      <td>lauren lee</td>\n",
       "      <td>3100</td>\n",
       "      <td>The Startup</td>\n",
       "      <td>2018-01-22 19:00:00</td>\n",
       "      <td>9</td>\n",
       "      <td>21.0</td>\n",
       "      <td></td>\n",
       "      <td>One year of Coding got me HERE</td>\n",
       "      <td>One year of Coding got me HERE</td>\n",
       "      <td>-1.2</td>\n",
       "      <td>2018</td>\n",
       "      <td>1</td>\n",
       "    </tr>\n",
       "    <tr>\n",
       "      <th>30</th>\n",
       "      <td>https://medium.com/swlh/basic-b-tchs-guide-to-...</td>\n",
       "      <td>Vi</td>\n",
       "      <td>1800</td>\n",
       "      <td>The Startup</td>\n",
       "      <td>2018-01-22 19:00:00</td>\n",
       "      <td>7</td>\n",
       "      <td>3.0</td>\n",
       "      <td></td>\n",
       "      <td>Basic B*tch’s Guide to Growing Money</td>\n",
       "      <td>Basic B*tch’s Guide to Growing Money</td>\n",
       "      <td>2.1</td>\n",
       "      <td>2018</td>\n",
       "      <td>1</td>\n",
       "    </tr>\n",
       "    <tr>\n",
       "      <th>31</th>\n",
       "      <td>https://medium.com/swlh/git-as-the-newbies-lea...</td>\n",
       "      <td>Hoppy Bouasavanh</td>\n",
       "      <td>1000</td>\n",
       "      <td>The Startup</td>\n",
       "      <td>2018-01-22 19:00:00</td>\n",
       "      <td>4</td>\n",
       "      <td>3.0</td>\n",
       "      <td></td>\n",
       "      <td>4 Reasons Why Beginning Programmers Should Use...</td>\n",
       "      <td>4 Reasons Why Beginning Programmers Should Use...</td>\n",
       "      <td>5.2</td>\n",
       "      <td>2018</td>\n",
       "      <td>1</td>\n",
       "    </tr>\n",
       "  </tbody>\n",
       "</table>\n",
       "</div>"
      ],
      "text/plain": [
       "                                          article_url            author  \\\n",
       "27  https://medium.com/swlh/playing-with-word-vect...    Martin Konicek   \n",
       "28  https://medium.com/swlh/the-ultimate-guide-to-...      Fran Conejos   \n",
       "29  https://medium.com/swlh/one-year-of-coding-got...        lauren lee   \n",
       "30  https://medium.com/swlh/basic-b-tchs-guide-to-...                Vi   \n",
       "31  https://medium.com/swlh/git-as-the-newbies-lea...  Hoppy Bouasavanh   \n",
       "\n",
       "    claps  publication      published_date  read_time  responses subtitle  \\\n",
       "27   1600  The Startup 2018-01-23 19:00:00          9       16.0            \n",
       "28   1400  The Startup 2018-01-23 19:00:00         11       13.0            \n",
       "29   3100  The Startup 2018-01-22 19:00:00          9       21.0            \n",
       "30   1800  The Startup 2018-01-22 19:00:00          7        3.0            \n",
       "31   1000  The Startup 2018-01-22 19:00:00          4        3.0            \n",
       "\n",
       "                                                title  \\\n",
       "27                          Playing with word vectors   \n",
       "28  The Ultimate Guide to Chatbots for Lead Genera...   \n",
       "29                     One year of Coding got me HERE   \n",
       "30               Basic B*tch’s Guide to Growing Money   \n",
       "31  4 Reasons Why Beginning Programmers Should Use...   \n",
       "\n",
       "                                      combined_titles  \\\n",
       "27                          Playing with word vectors   \n",
       "28  The Ultimate Guide to Chatbots for Lead Genera...   \n",
       "29                     One year of Coding got me HERE   \n",
       "30               Basic B*tch’s Guide to Growing Money   \n",
       "31  4 Reasons Why Beginning Programmers Should Use...   \n",
       "\n",
       "    flesch_kincaid_grade_level  years  months  \n",
       "27                         1.3   2018       1  \n",
       "28                         8.8   2018       1  \n",
       "29                        -1.2   2018       1  \n",
       "30                         2.1   2018       1  \n",
       "31                         5.2   2018       1  "
      ]
     },
     "execution_count": 5,
     "metadata": {},
     "output_type": "execute_result"
    }
   ],
   "source": [
    "cleaned_data.head()"
   ]
  },
  {
   "cell_type": "code",
   "execution_count": 180,
   "id": "d90d6134",
   "metadata": {},
   "outputs": [
    {
     "data": {
      "text/plain": [
       "publication\n",
       "HackerNoon.com         12337\n",
       "Human Parts             1391\n",
       "Mission.org             2661\n",
       "Personal Growth          647\n",
       "Startup Grind            405\n",
       "The Startup            26714\n",
       "The Washington Post      341\n",
       "Twitch Blog              237\n",
       "dtype: int64"
      ]
     },
     "execution_count": 180,
     "metadata": {},
     "output_type": "execute_result"
    }
   ],
   "source": [
    "cleaned_data.groupby('publication').size()"
   ]
  },
  {
   "cell_type": "code",
   "execution_count": 6,
   "id": "01f9dafc",
   "metadata": {},
   "outputs": [
    {
     "data": {
      "text/html": [
       "<div>\n",
       "<style scoped>\n",
       "    .dataframe tbody tr th:only-of-type {\n",
       "        vertical-align: middle;\n",
       "    }\n",
       "\n",
       "    .dataframe tbody tr th {\n",
       "        vertical-align: top;\n",
       "    }\n",
       "\n",
       "    .dataframe thead th {\n",
       "        text-align: right;\n",
       "    }\n",
       "</style>\n",
       "<table border=\"1\" class=\"dataframe\">\n",
       "  <thead>\n",
       "    <tr style=\"text-align: right;\">\n",
       "      <th></th>\n",
       "      <th>claps</th>\n",
       "      <th>read_time</th>\n",
       "      <th>responses</th>\n",
       "      <th>flesch_kincaid_grade_level</th>\n",
       "      <th>years</th>\n",
       "      <th>months</th>\n",
       "    </tr>\n",
       "  </thead>\n",
       "  <tbody>\n",
       "    <tr>\n",
       "      <th>count</th>\n",
       "      <td>44733.000000</td>\n",
       "      <td>44733.000000</td>\n",
       "      <td>44731.000000</td>\n",
       "      <td>44733.000000</td>\n",
       "      <td>44733.000000</td>\n",
       "      <td>44733.000000</td>\n",
       "    </tr>\n",
       "    <tr>\n",
       "      <th>mean</th>\n",
       "      <td>521.138354</td>\n",
       "      <td>6.223817</td>\n",
       "      <td>2.943261</td>\n",
       "      <td>6.386098</td>\n",
       "      <td>2019.211656</td>\n",
       "      <td>6.322625</td>\n",
       "    </tr>\n",
       "    <tr>\n",
       "      <th>std</th>\n",
       "      <td>3300.800134</td>\n",
       "      <td>3.618336</td>\n",
       "      <td>14.171428</td>\n",
       "      <td>4.906948</td>\n",
       "      <td>0.901057</td>\n",
       "      <td>3.419786</td>\n",
       "    </tr>\n",
       "    <tr>\n",
       "      <th>min</th>\n",
       "      <td>0.000000</td>\n",
       "      <td>0.000000</td>\n",
       "      <td>0.000000</td>\n",
       "      <td>-15.700000</td>\n",
       "      <td>2018.000000</td>\n",
       "      <td>1.000000</td>\n",
       "    </tr>\n",
       "    <tr>\n",
       "      <th>25%</th>\n",
       "      <td>59.000000</td>\n",
       "      <td>4.000000</td>\n",
       "      <td>0.000000</td>\n",
       "      <td>3.200000</td>\n",
       "      <td>2018.000000</td>\n",
       "      <td>4.000000</td>\n",
       "    </tr>\n",
       "    <tr>\n",
       "      <th>50%</th>\n",
       "      <td>123.000000</td>\n",
       "      <td>5.000000</td>\n",
       "      <td>0.000000</td>\n",
       "      <td>6.000000</td>\n",
       "      <td>2020.000000</td>\n",
       "      <td>6.000000</td>\n",
       "    </tr>\n",
       "    <tr>\n",
       "      <th>75%</th>\n",
       "      <td>296.000000</td>\n",
       "      <td>7.000000</td>\n",
       "      <td>2.000000</td>\n",
       "      <td>9.200000</td>\n",
       "      <td>2020.000000</td>\n",
       "      <td>9.000000</td>\n",
       "    </tr>\n",
       "    <tr>\n",
       "      <th>max</th>\n",
       "      <td>294000.000000</td>\n",
       "      <td>146.000000</td>\n",
       "      <td>999.000000</td>\n",
       "      <td>55.600000</td>\n",
       "      <td>2020.000000</td>\n",
       "      <td>12.000000</td>\n",
       "    </tr>\n",
       "  </tbody>\n",
       "</table>\n",
       "</div>"
      ],
      "text/plain": [
       "               claps     read_time     responses  flesch_kincaid_grade_level  \\\n",
       "count   44733.000000  44733.000000  44731.000000                44733.000000   \n",
       "mean      521.138354      6.223817      2.943261                    6.386098   \n",
       "std      3300.800134      3.618336     14.171428                    4.906948   \n",
       "min         0.000000      0.000000      0.000000                  -15.700000   \n",
       "25%        59.000000      4.000000      0.000000                    3.200000   \n",
       "50%       123.000000      5.000000      0.000000                    6.000000   \n",
       "75%       296.000000      7.000000      2.000000                    9.200000   \n",
       "max    294000.000000    146.000000    999.000000                   55.600000   \n",
       "\n",
       "              years        months  \n",
       "count  44733.000000  44733.000000  \n",
       "mean    2019.211656      6.322625  \n",
       "std        0.901057      3.419786  \n",
       "min     2018.000000      1.000000  \n",
       "25%     2018.000000      4.000000  \n",
       "50%     2020.000000      6.000000  \n",
       "75%     2020.000000      9.000000  \n",
       "max     2020.000000     12.000000  "
      ]
     },
     "execution_count": 6,
     "metadata": {},
     "output_type": "execute_result"
    }
   ],
   "source": [
    "cleaned_data.describe()"
   ]
  },
  {
   "cell_type": "code",
   "execution_count": 7,
   "id": "6729ee8c",
   "metadata": {},
   "outputs": [],
   "source": [
    "from sklearn.feature_extraction.text import TfidfVectorizer\n",
    "from sklearn.cluster import KMeans\n",
    "from sklearn.metrics.pairwise import linear_kernel\n",
    "from nltk import word_tokenize\n",
    "from nltk.stem import WordNetLemmatizer\n",
    "import nltk\n",
    "from nltk.corpus import stopwords\n",
    "from sklearn.preprocessing import normalize"
   ]
  },
  {
   "cell_type": "code",
   "execution_count": 8,
   "id": "bb98cb76",
   "metadata": {},
   "outputs": [
    {
     "name": "stderr",
     "output_type": "stream",
     "text": [
      "[nltk_data] Downloading package punkt to\n",
      "[nltk_data]     /Users/jglenister/nltk_data...\n",
      "[nltk_data]   Package punkt is already up-to-date!\n",
      "[nltk_data] Downloading package stopwords to\n",
      "[nltk_data]     /Users/jglenister/nltk_data...\n",
      "[nltk_data]   Package stopwords is already up-to-date!\n",
      "[nltk_data] Downloading package wordnet to\n",
      "[nltk_data]     /Users/jglenister/nltk_data...\n",
      "[nltk_data]   Package wordnet is already up-to-date!\n",
      "[nltk_data] Downloading package omw-1.4 to\n",
      "[nltk_data]     /Users/jglenister/nltk_data...\n",
      "[nltk_data]   Package omw-1.4 is already up-to-date!\n"
     ]
    }
   ],
   "source": [
    "# Download stopwords list\n",
    "nltk.download('punkt')\n",
    "nltk.download('stopwords')\n",
    "nltk.download('wordnet')\n",
    "nltk.download('omw-1.4')\n",
    "stop_words = set(stopwords.words('english')) "
   ]
  },
  {
   "cell_type": "code",
   "execution_count": 9,
   "id": "814cce0f",
   "metadata": {},
   "outputs": [],
   "source": [
    "# Interface lemma tokenizer from nltk with sklearn\n",
    "import re\n",
    "class LemmaTokenizer:\n",
    "    def __init__(self):\n",
    "        self.wnl = WordNetLemmatizer()\n",
    "    def __call__(self, doc):\n",
    "        regex_num_punctuation = r'(\\d+)|([^[A-Za-z0-9]\\s)'\n",
    "        regex_little_words = r'(\\b\\w{1,2}\\b)'\n",
    "        return [self.wnl.lemmatize(t) for t in word_tokenize(doc) \n",
    "                if not re.search(regex_num_punctuation, t) and not re.search(regex_little_words, t)]\n"
   ]
  },
  {
   "cell_type": "code",
   "execution_count": 10,
   "id": "d21cbcad",
   "metadata": {},
   "outputs": [],
   "source": [
    "# Lemmatize the stop words\n",
    "tokenizer=LemmaTokenizer()\n",
    "token_stop = tokenizer(' '.join(stop_words))\n",
    "vectorizer = TfidfVectorizer(tokenizer=tokenizer, stop_words=token_stop)"
   ]
  },
  {
   "cell_type": "code",
   "execution_count": 11,
   "id": "c457dc2d",
   "metadata": {},
   "outputs": [],
   "source": [
    "cleaned_data['combined_lower'] = cleaned_data['combined_titles'].str.lower()"
   ]
  },
  {
   "cell_type": "code",
   "execution_count": 12,
   "id": "9daeab82",
   "metadata": {},
   "outputs": [
    {
     "data": {
      "text/plain": [
       "array(['!', '#', '$', ..., '🦄', '🦔', '🦠'], dtype=object)"
      ]
     },
     "execution_count": 12,
     "metadata": {},
     "output_type": "execute_result"
    }
   ],
   "source": [
    "tf_idf = vectorizer.fit_transform(cleaned_data['combined_lower'])\n",
    "vectorizer.get_feature_names_out()"
   ]
  },
  {
   "cell_type": "code",
   "execution_count": 13,
   "id": "a1912ba7",
   "metadata": {},
   "outputs": [
    {
     "data": {
      "image/png": "[encoded data removed]",
      "text/plain": [
       "<Figure size 432x288 with 1 Axes>"
      ]
     },
     "metadata": {
      "needs_background": "light"
     },
     "output_type": "display_data"
    }
   ],
   "source": [
    "def elbow_method_kmeans(text_vector, max_cluster=15):\n",
    "\n",
    "    clusters = range(1, max_cluster)\n",
    "    kmeans = [KMeans(n_clusters=i, max_iter=600, random_state=45) for i in clusters]\n",
    "    scores = [-1 * (kmean.fit(text_vector).score(text_vector)) for kmean in kmeans]\n",
    "\n",
    "    pyplot.plot(clusters, scores)\n",
    "    pyplot.xlabel('Number of clusters')\n",
    "    pyplot.ylabel('Score')\n",
    "    pyplot.show()\n",
    "\n",
    "elbow_method_kmeans(tf_idf, 20)"
   ]
  },
  {
   "cell_type": "code",
   "execution_count": 14,
   "id": "92c8213c",
   "metadata": {},
   "outputs": [],
   "source": [
    "kmeans = KMeans(n_clusters=13, max_iter=600, random_state=45)\n",
    "cluster_model = kmeans.fit_predict(tf_idf)"
   ]
  },
  {
   "cell_type": "code",
   "execution_count": 15,
   "id": "d0dcd070",
   "metadata": {},
   "outputs": [],
   "source": [
    "def get_top_keywords(data, clusters, labels, n_terms):\n",
    "    df = pd.DataFrame(data.todense()).groupby(clusters).mean()\n",
    "    for i,r in df.iterrows():\n",
    "        print('\\nCluster {}'.format(i))\n",
    "        words = [labels[t] for t in np.argsort(r)[-n_terms:]]\n",
    "        print(' | '.join(words))"
   ]
  },
  {
   "cell_type": "code",
   "execution_count": 16,
   "id": "29ee7314",
   "metadata": {},
   "outputs": [
    {
     "name": "stdout",
     "output_type": "stream",
     "text": [
      "\n",
      "Cluster 0\n",
      "’ | big | scientist | model | structure | python | analysis | ? | using | : | deep | science | machine | learning | data\n",
      "\n",
      "Cluster 1\n",
      "javascript | startup | work | build | python | app | thing | writing | business | life | react | make | way | using | .\n",
      "\n",
      "Cluster 2\n",
      "crypto | security | new | . | , | javascript | startup | guide | part | & | biggest | cryptosphere | ’ | story | :\n",
      "\n",
      "Cluster 3\n",
      "! | & | data | javascript | . | python | using | — | , | ? | ’ | : | part | ( | )\n",
      "\n",
      "Cluster 4\n",
      "get | future | time | business | startup | bitcoin | make | work | really | . | want | , | : | ’ | ?\n",
      "\n",
      "Cluster 5\n",
      "basic | javascript | crypto | & | edge | python | react | , | : | . | news | ? | ’ | part | —\n",
      "\n",
      "Cluster 6\n",
      "time | make | business | startup | blockchain | work | crypto | — | : | ? | . | , | ’ | ” | “\n",
      "\n",
      "Cluster 7\n",
      "like | work | ? | people | make | writer | know | thing | time | let | guide | , | ‘ | . | ’\n",
      "\n",
      "Cluster 8\n",
      "important | business | . | month | startup | first | leadership | life | : | writing | year | thing | ’ | lesson | learned\n",
      "\n",
      "Cluster 9\n",
      "writing | : | ever | business | tool | . | , | code | ? | ’ | way | — | javascript | practice | best\n",
      "\n",
      "Cluster 10\n",
      "one | week | time | ! | want | using | new | & | : | mission | newsletter | . | ’ | … | ,\n",
      "\n",
      "Cluster 11\n",
      "new | guide | — | build | development | design | building | team | . | : | ? | ’ | management | manager | product\n",
      "\n",
      "Cluster 12\n",
      "new | project | solution | platform | world | . | , | future | — | ’ | industry | : | technology | ? | blockchain\n"
     ]
    }
   ],
   "source": [
    "get_top_keywords(tf_idf, cluster_model, vectorizer.get_feature_names_out(), 15)"
   ]
  },
  {
   "cell_type": "code",
   "execution_count": 17,
   "id": "d04cd2b5",
   "metadata": {},
   "outputs": [],
   "source": [
    "data_with_cluster = cleaned_data.copy()\n",
    "data_with_cluster['cluster'] = cluster_model\n",
    "data_with_cluster.to_csv('../data/processed/data_with_cluster.csv')"
   ]
  },
  {
   "cell_type": "markdown",
   "id": "6fdc7be6",
   "metadata": {},
   "source": [
    "# Exploratory Analysis"
   ]
  },
  {
   "cell_type": "code",
   "execution_count": 18,
   "id": "38daf45e",
   "metadata": {},
   "outputs": [],
   "source": [
    "import pathlib\n",
    "\n",
    "def boxplotting(cols, data, _path):\n",
    "    for col in cols:\n",
    "        ax = sns.boxplot(x=data[col])\n",
    "        name = col.replace('_', ' ').title()\n",
    "        ax.set_title(name)\n",
    "\n",
    "        pyplot.savefig(_path / f'{col}_whisker.png')"
   ]
  },
  {
   "cell_type": "code",
   "execution_count": 73,
   "id": "8c1b9ca5",
   "metadata": {},
   "outputs": [],
   "source": []
  },
  {
   "cell_type": "code",
   "execution_count": 74,
   "id": "16a8ed77",
   "metadata": {},
   "outputs": [
    {
     "ename": "ValueError",
     "evalue": "The truth value of a Series is ambiguous. Use a.empty, a.bool(), a.item(), a.any() or a.all().",
     "output_type": "error",
     "traceback": [
      "\u001b[0;31m---------------------------------------------------------------------------\u001b[0m",
      "\u001b[0;31mValueError\u001b[0m                                Traceback (most recent call last)",
      "\u001b[0;32m/var/folders/g6/9y3bb_0x76zgqjygs189mcq00000gn/T/ipykernel_86428/2008696428.py\u001b[0m in \u001b[0;36m<module>\u001b[0;34m\u001b[0m\n\u001b[0;32m----> 1\u001b[0;31m \u001b[0mdata_with_cluster\u001b[0m \u001b[0;34m=\u001b[0m \u001b[0mengagement_filter\u001b[0m\u001b[0;34m(\u001b[0m\u001b[0mdata_with_cluster\u001b[0m\u001b[0;34m,\u001b[0m \u001b[0;34m'publication'\u001b[0m\u001b[0;34m,\u001b[0m \u001b[0;34m'claps'\u001b[0m\u001b[0;34m,\u001b[0m \u001b[0;34m'engagement'\u001b[0m\u001b[0;34m)\u001b[0m\u001b[0;34m\u001b[0m\u001b[0;34m\u001b[0m\u001b[0m\n\u001b[0m",
      "\u001b[0;32m/var/folders/g6/9y3bb_0x76zgqjygs189mcq00000gn/T/ipykernel_86428/3290667301.py\u001b[0m in \u001b[0;36mengagement_filter\u001b[0;34m(data, grouping, compare, _result)\u001b[0m\n\u001b[1;32m      6\u001b[0m     conditions = [\n\u001b[1;32m      7\u001b[0m         \u001b[0mthird_quarter\u001b[0m \u001b[0;34m<=\u001b[0m \u001b[0mdata\u001b[0m\u001b[0;34m[\u001b[0m\u001b[0mcompare\u001b[0m\u001b[0;34m]\u001b[0m\u001b[0;34m,\u001b[0m\u001b[0;34m\u001b[0m\u001b[0;34m\u001b[0m\u001b[0m\n\u001b[0;32m----> 8\u001b[0;31m         \u001b[0mfirst_quarter\u001b[0m \u001b[0;34m<=\u001b[0m \u001b[0mdata\u001b[0m\u001b[0;34m[\u001b[0m\u001b[0mcompare\u001b[0m\u001b[0;34m]\u001b[0m \u001b[0;34m&\u001b[0m \u001b[0mdata\u001b[0m\u001b[0;34m[\u001b[0m\u001b[0mcompare\u001b[0m\u001b[0;34m]\u001b[0m \u001b[0;34m<\u001b[0m \u001b[0mthird_quarter\u001b[0m\u001b[0;34m\u001b[0m\u001b[0;34m\u001b[0m\u001b[0m\n\u001b[0m\u001b[1;32m      9\u001b[0m     ]\n\u001b[1;32m     10\u001b[0m \u001b[0;34m\u001b[0m\u001b[0m\n",
      "\u001b[0;32m~/Documents/Master's Docs/Capstone/analysis/.venv/lib/python3.7/site-packages/pandas/core/generic.py\u001b[0m in \u001b[0;36m__nonzero__\u001b[0;34m(self)\u001b[0m\n\u001b[1;32m   1536\u001b[0m     \u001b[0;32mdef\u001b[0m \u001b[0m__nonzero__\u001b[0m\u001b[0;34m(\u001b[0m\u001b[0mself\u001b[0m\u001b[0;34m)\u001b[0m\u001b[0;34m:\u001b[0m\u001b[0;34m\u001b[0m\u001b[0;34m\u001b[0m\u001b[0m\n\u001b[1;32m   1537\u001b[0m         raise ValueError(\n\u001b[0;32m-> 1538\u001b[0;31m             \u001b[0;34mf\"The truth value of a {type(self).__name__} is ambiguous. \"\u001b[0m\u001b[0;34m\u001b[0m\u001b[0;34m\u001b[0m\u001b[0m\n\u001b[0m\u001b[1;32m   1539\u001b[0m             \u001b[0;34m\"Use a.empty, a.bool(), a.item(), a.any() or a.all().\"\u001b[0m\u001b[0;34m\u001b[0m\u001b[0;34m\u001b[0m\u001b[0m\n\u001b[1;32m   1540\u001b[0m         )\n",
      "\u001b[0;31mValueError\u001b[0m: The truth value of a Series is ambiguous. Use a.empty, a.bool(), a.item(), a.any() or a.all()."
     ]
    }
   ],
   "source": []
  },
  {
   "cell_type": "code",
   "execution_count": 65,
   "id": "026d6a6e",
   "metadata": {},
   "outputs": [
    {
     "data": {
      "text/plain": [
       "27        1600\n",
       "28        1400\n",
       "29        3100\n",
       "30        1800\n",
       "31        1000\n",
       "26820      723\n",
       "26821      292\n",
       "26822      748\n",
       "26823       35\n",
       "26824     1300\n",
       "27161        8\n",
       "27162     9500\n",
       "27163    17100\n",
       "27164     2000\n",
       "27165      265\n",
       "29849     9400\n",
       "29850     1700\n",
       "29851      925\n",
       "29852      223\n",
       "29853      626\n",
       "31242       16\n",
       "31243        4\n",
       "31244      567\n",
       "31245       65\n",
       "31246     1600\n",
       "31480    24000\n",
       "31481     2400\n",
       "31482     6200\n",
       "31483     5200\n",
       "31484    17900\n",
       "32129    23000\n",
       "32130     1700\n",
       "32131     3800\n",
       "32132      554\n",
       "32133     2900\n",
       "44500      114\n",
       "44501      649\n",
       "44502      115\n",
       "44503      193\n",
       "44504     1600\n",
       "Name: claps, dtype: int64"
      ]
     },
     "execution_count": 65,
     "metadata": {},
     "output_type": "execute_result"
    }
   ],
   "source": [
    "c = data_with_cluster.groupby('publication')['claps']\n",
    "c.head()"
   ]
  },
  {
   "cell_type": "code",
   "execution_count": 134,
   "id": "c7da25e6",
   "metadata": {},
   "outputs": [],
   "source": [
    "data_with_cluster['engaging'] = data_with_cluster.groupby('publication')['claps'].transform(lambda x: x.mean() ) <= data_with_cluster['claps'] "
   ]
  },
  {
   "cell_type": "code",
   "execution_count": 37,
   "id": "04799e4c",
   "metadata": {},
   "outputs": [
    {
     "name": "stdout",
     "output_type": "stream",
     "text": [
      "               claps     read_time     responses  flesch_kincaid_grade_level  \\\n",
      "count   44733.000000  44733.000000  44731.000000                44733.000000   \n",
      "mean      521.138354      6.223817      2.943261                    6.386098   \n",
      "std      3300.800134      3.618336     14.171428                    4.906948   \n",
      "min         0.000000      0.000000      0.000000                  -15.700000   \n",
      "25%        59.000000      4.000000      0.000000                    3.200000   \n",
      "50%       123.000000      5.000000      0.000000                    6.000000   \n",
      "75%       296.000000      7.000000      2.000000                    9.200000   \n",
      "max    294000.000000    146.000000    999.000000                   55.600000   \n",
      "\n",
      "              years        months       cluster  \n",
      "count  44733.000000  44733.000000  44733.000000  \n",
      "mean    2019.211656      6.322625      3.381575  \n",
      "std        0.901057      3.419786      3.350477  \n",
      "min     2018.000000      1.000000      0.000000  \n",
      "25%     2018.000000      4.000000      1.000000  \n",
      "50%     2020.000000      6.000000      1.000000  \n",
      "75%     2020.000000      9.000000      5.000000  \n",
      "max     2020.000000     12.000000     12.000000  \n",
      "                                          article_url            author  \\\n",
      "27  https://medium.com/swlh/playing-with-word-vect...    Martin Konicek   \n",
      "28  https://medium.com/swlh/the-ultimate-guide-to-...      Fran Conejos   \n",
      "29  https://medium.com/swlh/one-year-of-coding-got...        lauren lee   \n",
      "30  https://medium.com/swlh/basic-b-tchs-guide-to-...                Vi   \n",
      "31  https://medium.com/swlh/git-as-the-newbies-lea...  Hoppy Bouasavanh   \n",
      "\n",
      "    claps  publication      published_date  read_time  responses subtitle  \\\n",
      "27   1600  The Startup 2018-01-23 19:00:00          9       16.0            \n",
      "28   1400  The Startup 2018-01-23 19:00:00         11       13.0            \n",
      "29   3100  The Startup 2018-01-22 19:00:00          9       21.0            \n",
      "30   1800  The Startup 2018-01-22 19:00:00          7        3.0            \n",
      "31   1000  The Startup 2018-01-22 19:00:00          4        3.0            \n",
      "\n",
      "                                                title  \\\n",
      "27                          Playing with word vectors   \n",
      "28  The Ultimate Guide to Chatbots for Lead Genera...   \n",
      "29                     One year of Coding got me HERE   \n",
      "30               Basic B*tch’s Guide to Growing Money   \n",
      "31  4 Reasons Why Beginning Programmers Should Use...   \n",
      "\n",
      "                                      combined_titles  \\\n",
      "27                          Playing with word vectors   \n",
      "28  The Ultimate Guide to Chatbots for Lead Genera...   \n",
      "29                     One year of Coding got me HERE   \n",
      "30               Basic B*tch’s Guide to Growing Money   \n",
      "31  4 Reasons Why Beginning Programmers Should Use...   \n",
      "\n",
      "    flesch_kincaid_grade_level  years  months  \\\n",
      "27                         1.3   2018       1   \n",
      "28                         8.8   2018       1   \n",
      "29                        -1.2   2018       1   \n",
      "30                         2.1   2018       1   \n",
      "31                         5.2   2018       1   \n",
      "\n",
      "                                       combined_lower  cluster  engaging  \n",
      "27                          playing with word vectors        1      True  \n",
      "28  the ultimate guide to chatbots for lead genera...        1      True  \n",
      "29                     one year of coding got me here        1      True  \n",
      "30               basic b*tch’s guide to growing money        7      True  \n",
      "31  4 reasons why beginning programmers should use...        6     False  \n"
     ]
    }
   ],
   "source": [
    "print(data_with_cluster.describe())\n",
    "print(data_with_cluster.head())\n"
   ]
  },
  {
   "cell_type": "code",
   "execution_count": 38,
   "id": "16ff29b0",
   "metadata": {},
   "outputs": [
    {
     "data": {
      "text/plain": [
       "Text(0.5, 1.0, 'Claps')"
      ]
     },
     "execution_count": 38,
     "metadata": {},
     "output_type": "execute_result"
    },
    {
     "data": {
      "image/png": "[encoded data removed]",
      "text/plain": [
       "<Figure size 432x288 with 1 Axes>"
      ]
     },
     "metadata": {
      "needs_background": "light"
     },
     "output_type": "display_data"
    }
   ],
   "source": [
    "ax = sns.boxplot(x=data_with_cluster['claps'])\n",
    "ax.set_title('Claps')"
   ]
  },
  {
   "cell_type": "code",
   "execution_count": 39,
   "id": "b13caab0",
   "metadata": {},
   "outputs": [
    {
     "data": {
      "text/plain": [
       "Text(0.5, 1.0, 'Read Time')"
      ]
     },
     "execution_count": 39,
     "metadata": {},
     "output_type": "execute_result"
    },
    {
     "data": {
      "image/png": "[encoded data removed]",
      "text/plain": [
       "<Figure size 432x288 with 1 Axes>"
      ]
     },
     "metadata": {
      "needs_background": "light"
     },
     "output_type": "display_data"
    }
   ],
   "source": [
    "ax = sns.boxplot(x=data_with_cluster['read_time'])\n",
    "ax.set_title('Read Time')"
   ]
  },
  {
   "cell_type": "code",
   "execution_count": 40,
   "id": "1a8cc6a7",
   "metadata": {},
   "outputs": [
    {
     "data": {
      "text/plain": [
       "Text(0.5, 1.0, 'Flesch Kincaid Grade Level')"
      ]
     },
     "execution_count": 40,
     "metadata": {},
     "output_type": "execute_result"
    },
    {
     "data": {
      "image/png": "[encoded data removed]",
      "text/plain": [
       "<Figure size 432x288 with 1 Axes>"
      ]
     },
     "metadata": {
      "needs_background": "light"
     },
     "output_type": "display_data"
    }
   ],
   "source": [
    "ax = sns.boxplot(x=data_with_cluster['flesch_kincaid_grade_level'])\n",
    "ax.set_title('Flesch Kincaid Grade Level')"
   ]
  },
  {
   "cell_type": "code",
   "execution_count": 41,
   "id": "88e648e6",
   "metadata": {},
   "outputs": [
    {
     "data": {
      "image/png": "[encoded data removed]",
      "text/plain": [
       "<Figure size 432x288 with 1 Axes>"
      ]
     },
     "metadata": {
      "needs_background": "light"
     },
     "output_type": "display_data"
    }
   ],
   "source": [
    "boxplotting(['claps', 'read_time', 'responses','flesch_kincaid_grade_level'], data_with_cluster, pathlib.Path('../images/'))"
   ]
  },
  {
   "cell_type": "code",
   "execution_count": 135,
   "id": "0ed12ffc",
   "metadata": {},
   "outputs": [],
   "source": [
    "from scipy.stats import zscore\n",
    "data_with_cluster['zscore_flesch'] = np.abs(zscore(data_with_cluster['flesch_kincaid_grade_level']))\n",
    "data_with_cluster['zscore_time'] = np.abs(zscore(data_with_cluster['read_time']))\n",
    "df_final = data_with_cluster[(data_with_cluster['zscore_flesch'] < 3) & (data_with_cluster['zscore_time'] < 3)].copy()\n",
    "\n"
   ]
  },
  {
   "cell_type": "code",
   "execution_count": 118,
   "id": "9caafbfe",
   "metadata": {},
   "outputs": [
    {
     "data": {
      "text/html": [
       "<div>\n",
       "<style scoped>\n",
       "    .dataframe tbody tr th:only-of-type {\n",
       "        vertical-align: middle;\n",
       "    }\n",
       "\n",
       "    .dataframe tbody tr th {\n",
       "        vertical-align: top;\n",
       "    }\n",
       "\n",
       "    .dataframe thead th {\n",
       "        text-align: right;\n",
       "    }\n",
       "</style>\n",
       "<table border=\"1\" class=\"dataframe\">\n",
       "  <thead>\n",
       "    <tr style=\"text-align: right;\">\n",
       "      <th></th>\n",
       "      <th>claps</th>\n",
       "      <th>read_time</th>\n",
       "      <th>responses</th>\n",
       "      <th>flesch_kincaid_grade_level</th>\n",
       "      <th>years</th>\n",
       "      <th>months</th>\n",
       "      <th>cluster</th>\n",
       "      <th>zscore_flesch</th>\n",
       "      <th>zscore_time</th>\n",
       "    </tr>\n",
       "  </thead>\n",
       "  <tbody>\n",
       "    <tr>\n",
       "      <th>count</th>\n",
       "      <td>43784.000000</td>\n",
       "      <td>43784.000000</td>\n",
       "      <td>43782.000000</td>\n",
       "      <td>43784.000000</td>\n",
       "      <td>43784.000000</td>\n",
       "      <td>43784.000000</td>\n",
       "      <td>43784.000000</td>\n",
       "      <td>43784.000000</td>\n",
       "      <td>43784.000000</td>\n",
       "    </tr>\n",
       "    <tr>\n",
       "      <th>mean</th>\n",
       "      <td>511.212543</td>\n",
       "      <td>5.979993</td>\n",
       "      <td>2.877096</td>\n",
       "      <td>6.221974</td>\n",
       "      <td>2019.212361</td>\n",
       "      <td>6.321350</td>\n",
       "      <td>3.390782</td>\n",
       "      <td>0.730971</td>\n",
       "      <td>0.588721</td>\n",
       "    </tr>\n",
       "    <tr>\n",
       "      <th>std</th>\n",
       "      <td>3292.872078</td>\n",
       "      <td>2.719069</td>\n",
       "      <td>13.993221</td>\n",
       "      <td>4.546289</td>\n",
       "      <td>0.901309</td>\n",
       "      <td>3.420885</td>\n",
       "      <td>3.353438</td>\n",
       "      <td>0.570272</td>\n",
       "      <td>0.471869</td>\n",
       "    </tr>\n",
       "    <tr>\n",
       "      <th>min</th>\n",
       "      <td>0.000000</td>\n",
       "      <td>0.000000</td>\n",
       "      <td>0.000000</td>\n",
       "      <td>-8.200000</td>\n",
       "      <td>2018.000000</td>\n",
       "      <td>1.000000</td>\n",
       "      <td>0.000000</td>\n",
       "      <td>0.002833</td>\n",
       "      <td>0.061857</td>\n",
       "    </tr>\n",
       "    <tr>\n",
       "      <th>25%</th>\n",
       "      <td>59.000000</td>\n",
       "      <td>4.000000</td>\n",
       "      <td>0.000000</td>\n",
       "      <td>2.900000</td>\n",
       "      <td>2018.000000</td>\n",
       "      <td>4.000000</td>\n",
       "      <td>1.000000</td>\n",
       "      <td>0.247387</td>\n",
       "      <td>0.214516</td>\n",
       "    </tr>\n",
       "    <tr>\n",
       "      <th>50%</th>\n",
       "      <td>123.000000</td>\n",
       "      <td>5.000000</td>\n",
       "      <td>0.000000</td>\n",
       "      <td>6.000000</td>\n",
       "      <td>2020.000000</td>\n",
       "      <td>6.000000</td>\n",
       "      <td>1.000000</td>\n",
       "      <td>0.628931</td>\n",
       "      <td>0.490889</td>\n",
       "    </tr>\n",
       "    <tr>\n",
       "      <th>75%</th>\n",
       "      <td>294.000000</td>\n",
       "      <td>7.000000</td>\n",
       "      <td>2.000000</td>\n",
       "      <td>9.200000</td>\n",
       "      <td>2020.000000</td>\n",
       "      <td>9.000000</td>\n",
       "      <td>5.000000</td>\n",
       "      <td>1.042188</td>\n",
       "      <td>0.767263</td>\n",
       "    </tr>\n",
       "    <tr>\n",
       "      <th>max</th>\n",
       "      <td>294000.000000</td>\n",
       "      <td>17.000000</td>\n",
       "      <td>999.000000</td>\n",
       "      <td>21.000000</td>\n",
       "      <td>2020.000000</td>\n",
       "      <td>12.000000</td>\n",
       "      <td>12.000000</td>\n",
       "      <td>2.978240</td>\n",
       "      <td>2.978249</td>\n",
       "    </tr>\n",
       "  </tbody>\n",
       "</table>\n",
       "</div>"
      ],
      "text/plain": [
       "               claps     read_time     responses  flesch_kincaid_grade_level  \\\n",
       "count   43784.000000  43784.000000  43782.000000                43784.000000   \n",
       "mean      511.212543      5.979993      2.877096                    6.221974   \n",
       "std      3292.872078      2.719069     13.993221                    4.546289   \n",
       "min         0.000000      0.000000      0.000000                   -8.200000   \n",
       "25%        59.000000      4.000000      0.000000                    2.900000   \n",
       "50%       123.000000      5.000000      0.000000                    6.000000   \n",
       "75%       294.000000      7.000000      2.000000                    9.200000   \n",
       "max    294000.000000     17.000000    999.000000                   21.000000   \n",
       "\n",
       "              years        months       cluster  zscore_flesch   zscore_time  \n",
       "count  43784.000000  43784.000000  43784.000000   43784.000000  43784.000000  \n",
       "mean    2019.212361      6.321350      3.390782       0.730971      0.588721  \n",
       "std        0.901309      3.420885      3.353438       0.570272      0.471869  \n",
       "min     2018.000000      1.000000      0.000000       0.002833      0.061857  \n",
       "25%     2018.000000      4.000000      1.000000       0.247387      0.214516  \n",
       "50%     2020.000000      6.000000      1.000000       0.628931      0.490889  \n",
       "75%     2020.000000      9.000000      5.000000       1.042188      0.767263  \n",
       "max     2020.000000     12.000000     12.000000       2.978240      2.978249  "
      ]
     },
     "execution_count": 118,
     "metadata": {},
     "output_type": "execute_result"
    }
   ],
   "source": [
    "df_final.describe()"
   ]
  },
  {
   "cell_type": "code",
   "execution_count": 42,
   "id": "d3941cd9",
   "metadata": {},
   "outputs": [],
   "source": [
    "def countplotting(x, df, y=None, path=None):\n",
    "    for col in x:\n",
    "        ax = sns.countplot(x=col, data=df, hue=y)\n",
    "        ax.set_title(col.replace('_', ' ').title())\n",
    "        for p, q in enumerate(ax.patches):\n",
    "            height = q.get_height()\n",
    "            ax.text(q.get_x()+q.get_width()/2., height + 20, height, ha=\"center\")\n",
    "\n",
    "        name = '_comparison' if y else ''\n",
    "        name = f'{col}_countplot{name}.png'\n",
    "        pyplot.savefig(path / name)\n"
   ]
  },
  {
   "cell_type": "code",
   "execution_count": 43,
   "id": "91b730e5",
   "metadata": {},
   "outputs": [
    {
     "data": {
      "text/plain": [
       "count    18785.000000\n",
       "mean         2.381315\n",
       "std          7.586061\n",
       "min          1.000000\n",
       "25%          1.000000\n",
       "50%          1.000000\n",
       "75%          2.000000\n",
       "max        529.000000\n",
       "dtype: float64"
      ]
     },
     "execution_count": 43,
     "metadata": {},
     "output_type": "execute_result"
    },
    {
     "data": {
      "image/png": "[encoded data removed]",
      "text/plain": [
       "<Figure size 432x288 with 1 Axes>"
      ]
     },
     "metadata": {
      "needs_background": "light"
     },
     "output_type": "display_data"
    }
   ],
   "source": [
    "a = data_with_cluster.groupby('author').size().sort_values(ascending=False)\n",
    "ax = sns.boxplot(x=a)\n",
    "a.describe()"
   ]
  },
  {
   "cell_type": "code",
   "execution_count": 44,
   "id": "94e04073",
   "metadata": {},
   "outputs": [
    {
     "data": {
      "text/html": [
       "<div>\n",
       "<style scoped>\n",
       "    .dataframe tbody tr th:only-of-type {\n",
       "        vertical-align: middle;\n",
       "    }\n",
       "\n",
       "    .dataframe tbody tr th {\n",
       "        vertical-align: top;\n",
       "    }\n",
       "\n",
       "    .dataframe thead th {\n",
       "        text-align: right;\n",
       "    }\n",
       "</style>\n",
       "<table border=\"1\" class=\"dataframe\">\n",
       "  <thead>\n",
       "    <tr style=\"text-align: right;\">\n",
       "      <th></th>\n",
       "      <th>claps</th>\n",
       "      <th>read_time</th>\n",
       "      <th>responses</th>\n",
       "      <th>flesch_kincaid_grade_level</th>\n",
       "    </tr>\n",
       "  </thead>\n",
       "  <tbody>\n",
       "    <tr>\n",
       "      <th>count</th>\n",
       "      <td>44733.000000</td>\n",
       "      <td>44733.000000</td>\n",
       "      <td>44731.000000</td>\n",
       "      <td>44733.000000</td>\n",
       "    </tr>\n",
       "    <tr>\n",
       "      <th>mean</th>\n",
       "      <td>521.138354</td>\n",
       "      <td>6.223817</td>\n",
       "      <td>2.943261</td>\n",
       "      <td>6.386098</td>\n",
       "    </tr>\n",
       "    <tr>\n",
       "      <th>std</th>\n",
       "      <td>3300.800134</td>\n",
       "      <td>3.618336</td>\n",
       "      <td>14.171428</td>\n",
       "      <td>4.906948</td>\n",
       "    </tr>\n",
       "    <tr>\n",
       "      <th>min</th>\n",
       "      <td>0.000000</td>\n",
       "      <td>0.000000</td>\n",
       "      <td>0.000000</td>\n",
       "      <td>-15.700000</td>\n",
       "    </tr>\n",
       "    <tr>\n",
       "      <th>25%</th>\n",
       "      <td>59.000000</td>\n",
       "      <td>4.000000</td>\n",
       "      <td>0.000000</td>\n",
       "      <td>3.200000</td>\n",
       "    </tr>\n",
       "    <tr>\n",
       "      <th>50%</th>\n",
       "      <td>123.000000</td>\n",
       "      <td>5.000000</td>\n",
       "      <td>0.000000</td>\n",
       "      <td>6.000000</td>\n",
       "    </tr>\n",
       "    <tr>\n",
       "      <th>75%</th>\n",
       "      <td>296.000000</td>\n",
       "      <td>7.000000</td>\n",
       "      <td>2.000000</td>\n",
       "      <td>9.200000</td>\n",
       "    </tr>\n",
       "    <tr>\n",
       "      <th>max</th>\n",
       "      <td>294000.000000</td>\n",
       "      <td>146.000000</td>\n",
       "      <td>999.000000</td>\n",
       "      <td>55.600000</td>\n",
       "    </tr>\n",
       "  </tbody>\n",
       "</table>\n",
       "</div>"
      ],
      "text/plain": [
       "               claps     read_time     responses  flesch_kincaid_grade_level\n",
       "count   44733.000000  44733.000000  44731.000000                44733.000000\n",
       "mean      521.138354      6.223817      2.943261                    6.386098\n",
       "std      3300.800134      3.618336     14.171428                    4.906948\n",
       "min         0.000000      0.000000      0.000000                  -15.700000\n",
       "25%        59.000000      4.000000      0.000000                    3.200000\n",
       "50%       123.000000      5.000000      0.000000                    6.000000\n",
       "75%       296.000000      7.000000      2.000000                    9.200000\n",
       "max    294000.000000    146.000000    999.000000                   55.600000"
      ]
     },
     "execution_count": 44,
     "metadata": {},
     "output_type": "execute_result"
    }
   ],
   "source": [
    "data_with_cluster[['claps', 'read_time', 'responses', 'flesch_kincaid_grade_level']].describe()"
   ]
  },
  {
   "cell_type": "code",
   "execution_count": 45,
   "id": "b537b4cb",
   "metadata": {},
   "outputs": [
    {
     "data": {
      "text/plain": [
       "array(['article_url', 'author', 'claps', 'publication', 'published_date',\n",
       "       'read_time', 'responses', 'subtitle', 'title', 'combined_titles',\n",
       "       'flesch_kincaid_grade_level', 'years', 'months', 'combined_lower',\n",
       "       'cluster', 'engaging'], dtype=object)"
      ]
     },
     "execution_count": 45,
     "metadata": {},
     "output_type": "execute_result"
    }
   ],
   "source": [
    "data_with_cluster.columns.values"
   ]
  },
  {
   "cell_type": "code",
   "execution_count": 46,
   "id": "1a37ac0e",
   "metadata": {},
   "outputs": [
    {
     "data": {
      "image/png": "[encoded data removed]",
      "text/plain": [
       "<Figure size 432x288 with 1 Axes>"
      ]
     },
     "metadata": {
      "needs_background": "light"
     },
     "output_type": "display_data"
    }
   ],
   "source": [
    "cols = ['publication', 'years']\n",
    "countplotting(cols, data_with_cluster, path=pathlib.Path('../images/'))"
   ]
  },
  {
   "cell_type": "code",
   "execution_count": 47,
   "id": "1ae69968",
   "metadata": {},
   "outputs": [
    {
     "data": {
      "image/png": "[encoded data removed]",
      "text/plain": [
       "<Figure size 432x288 with 1 Axes>"
      ]
     },
     "metadata": {
      "needs_background": "light"
     },
     "output_type": "display_data"
    }
   ],
   "source": [
    "ax = sns.countplot(x='cluster', data=data_with_cluster, hue='engaging')\n",
    "ax.set_title('engaging'.replace('_', ' ').title())\n",
    "for p, q in enumerate(ax.patches):\n",
    "    height = q.get_height()\n",
    "    ax.text(q.get_x()+q.get_width()/2., height + 20, height, ha=\"center\")\n",
    "pyplot.savefig(pathlib.Path('../images') / 'cluster_countplot_comparison.png')"
   ]
  },
  {
   "cell_type": "code",
   "execution_count": 48,
   "id": "a94ec158",
   "metadata": {},
   "outputs": [
    {
     "data": {
      "image/png": "[encoded data removed]",
      "text/plain": [
       "<Figure size 432x288 with 1 Axes>"
      ]
     },
     "metadata": {
      "needs_background": "light"
     },
     "output_type": "display_data"
    }
   ],
   "source": [
    "countplotting(cols, data_with_cluster, y='engaging', path=pathlib.Path('../images/'))\n"
   ]
  },
  {
   "cell_type": "code",
   "execution_count": 49,
   "id": "38f6ba11",
   "metadata": {},
   "outputs": [
    {
     "data": {
      "text/plain": [
       "Text(0.5, 1.0, 'Flesch-Kincaid Grade Level')"
      ]
     },
     "execution_count": 49,
     "metadata": {},
     "output_type": "execute_result"
    },
    {
     "data": {
      "image/png": "[encoded data removed]",
      "text/plain": [
       "<Figure size 432x288 with 1 Axes>"
      ]
     },
     "metadata": {
      "needs_background": "light"
     },
     "output_type": "display_data"
    }
   ],
   "source": [
    "ax = sns.boxplot(x='engaging', y='flesch_kincaid_grade_level', data=data_with_cluster)\n",
    "ax.set_title('Flesch-Kincaid Grade Level')"
   ]
  },
  {
   "cell_type": "code",
   "execution_count": 52,
   "id": "a3cadecc",
   "metadata": {},
   "outputs": [
    {
     "data": {
      "text/plain": [
       "Text(0.5, 1.0, 'Reading Time')"
      ]
     },
     "execution_count": 52,
     "metadata": {},
     "output_type": "execute_result"
    },
    {
     "data": {
      "image/png": "[encoded data removed]",
      "text/plain": [
       "<Figure size 432x288 with 1 Axes>"
      ]
     },
     "metadata": {
      "needs_background": "light"
     },
     "output_type": "display_data"
    }
   ],
   "source": [
    "ax = sns.boxplot(x='engaging', y='read_time', data=data_with_cluster)\n",
    "ax.set_title('Reading Time')"
   ]
  },
  {
   "cell_type": "markdown",
   "metadata": {},
   "source": [
    "# Finalized Data Graphs"
   ]
  },
  {
   "cell_type": "code",
   "execution_count": 137,
   "id": "af4177af",
   "metadata": {},
   "outputs": [
    {
     "data": {
      "text/html": [
       "<div>\n",
       "<style scoped>\n",
       "    .dataframe tbody tr th:only-of-type {\n",
       "        vertical-align: middle;\n",
       "    }\n",
       "\n",
       "    .dataframe tbody tr th {\n",
       "        vertical-align: top;\n",
       "    }\n",
       "\n",
       "    .dataframe thead th {\n",
       "        text-align: right;\n",
       "    }\n",
       "</style>\n",
       "<table border=\"1\" class=\"dataframe\">\n",
       "  <thead>\n",
       "    <tr style=\"text-align: right;\">\n",
       "      <th></th>\n",
       "      <th>article_url</th>\n",
       "      <th>author</th>\n",
       "      <th>claps</th>\n",
       "      <th>publication</th>\n",
       "      <th>published_date</th>\n",
       "      <th>read_time</th>\n",
       "      <th>responses</th>\n",
       "      <th>subtitle</th>\n",
       "      <th>title</th>\n",
       "      <th>combined_titles</th>\n",
       "      <th>flesch_kincaid_grade_level</th>\n",
       "      <th>years</th>\n",
       "      <th>months</th>\n",
       "      <th>combined_lower</th>\n",
       "      <th>cluster</th>\n",
       "      <th>engaging</th>\n",
       "      <th>zscore_flesch</th>\n",
       "      <th>zscore_time</th>\n",
       "    </tr>\n",
       "  </thead>\n",
       "  <tbody>\n",
       "    <tr>\n",
       "      <th>27</th>\n",
       "      <td>https://medium.com/swlh/playing-with-word-vect...</td>\n",
       "      <td>Martin Konicek</td>\n",
       "      <td>1600</td>\n",
       "      <td>The Startup</td>\n",
       "      <td>2018-01-23 19:00:00</td>\n",
       "      <td>9</td>\n",
       "      <td>16.0</td>\n",
       "      <td></td>\n",
       "      <td>Playing with word vectors</td>\n",
       "      <td>Playing with word vectors</td>\n",
       "      <td>1.3</td>\n",
       "      <td>2018</td>\n",
       "      <td>1</td>\n",
       "      <td>playing with word vectors</td>\n",
       "      <td>1</td>\n",
       "      <td>True</td>\n",
       "      <td>1.036521</td>\n",
       "      <td>0.767263</td>\n",
       "    </tr>\n",
       "    <tr>\n",
       "      <th>28</th>\n",
       "      <td>https://medium.com/swlh/the-ultimate-guide-to-...</td>\n",
       "      <td>Fran Conejos</td>\n",
       "      <td>1400</td>\n",
       "      <td>The Startup</td>\n",
       "      <td>2018-01-23 19:00:00</td>\n",
       "      <td>11</td>\n",
       "      <td>13.0</td>\n",
       "      <td></td>\n",
       "      <td>The Ultimate Guide to Chatbots for Lead Genera...</td>\n",
       "      <td>The Ultimate Guide to Chatbots for Lead Genera...</td>\n",
       "      <td>8.8</td>\n",
       "      <td>2018</td>\n",
       "      <td>1</td>\n",
       "      <td>the ultimate guide to chatbots for lead genera...</td>\n",
       "      <td>1</td>\n",
       "      <td>True</td>\n",
       "      <td>0.491941</td>\n",
       "      <td>1.320009</td>\n",
       "    </tr>\n",
       "    <tr>\n",
       "      <th>29</th>\n",
       "      <td>https://medium.com/swlh/one-year-of-coding-got...</td>\n",
       "      <td>lauren lee</td>\n",
       "      <td>3100</td>\n",
       "      <td>The Startup</td>\n",
       "      <td>2018-01-22 19:00:00</td>\n",
       "      <td>9</td>\n",
       "      <td>21.0</td>\n",
       "      <td></td>\n",
       "      <td>One year of Coding got me HERE</td>\n",
       "      <td>One year of Coding got me HERE</td>\n",
       "      <td>-1.2</td>\n",
       "      <td>2018</td>\n",
       "      <td>1</td>\n",
       "      <td>one year of coding got me here</td>\n",
       "      <td>1</td>\n",
       "      <td>True</td>\n",
       "      <td>1.546008</td>\n",
       "      <td>0.767263</td>\n",
       "    </tr>\n",
       "    <tr>\n",
       "      <th>30</th>\n",
       "      <td>https://medium.com/swlh/basic-b-tchs-guide-to-...</td>\n",
       "      <td>Vi</td>\n",
       "      <td>1800</td>\n",
       "      <td>The Startup</td>\n",
       "      <td>2018-01-22 19:00:00</td>\n",
       "      <td>7</td>\n",
       "      <td>3.0</td>\n",
       "      <td></td>\n",
       "      <td>Basic B*tch’s Guide to Growing Money</td>\n",
       "      <td>Basic B*tch’s Guide to Growing Money</td>\n",
       "      <td>2.1</td>\n",
       "      <td>2018</td>\n",
       "      <td>1</td>\n",
       "      <td>basic b*tch’s guide to growing money</td>\n",
       "      <td>7</td>\n",
       "      <td>True</td>\n",
       "      <td>0.873485</td>\n",
       "      <td>0.214516</td>\n",
       "    </tr>\n",
       "    <tr>\n",
       "      <th>31</th>\n",
       "      <td>https://medium.com/swlh/git-as-the-newbies-lea...</td>\n",
       "      <td>Hoppy Bouasavanh</td>\n",
       "      <td>1000</td>\n",
       "      <td>The Startup</td>\n",
       "      <td>2018-01-22 19:00:00</td>\n",
       "      <td>4</td>\n",
       "      <td>3.0</td>\n",
       "      <td></td>\n",
       "      <td>4 Reasons Why Beginning Programmers Should Use...</td>\n",
       "      <td>4 Reasons Why Beginning Programmers Should Use...</td>\n",
       "      <td>5.2</td>\n",
       "      <td>2018</td>\n",
       "      <td>1</td>\n",
       "      <td>4 reasons why beginning programmers should use...</td>\n",
       "      <td>6</td>\n",
       "      <td>True</td>\n",
       "      <td>0.241721</td>\n",
       "      <td>0.614603</td>\n",
       "    </tr>\n",
       "  </tbody>\n",
       "</table>\n",
       "</div>"
      ],
      "text/plain": [
       "                                          article_url            author  \\\n",
       "27  https://medium.com/swlh/playing-with-word-vect...    Martin Konicek   \n",
       "28  https://medium.com/swlh/the-ultimate-guide-to-...      Fran Conejos   \n",
       "29  https://medium.com/swlh/one-year-of-coding-got...        lauren lee   \n",
       "30  https://medium.com/swlh/basic-b-tchs-guide-to-...                Vi   \n",
       "31  https://medium.com/swlh/git-as-the-newbies-lea...  Hoppy Bouasavanh   \n",
       "\n",
       "    claps  publication      published_date  read_time  responses subtitle  \\\n",
       "27   1600  The Startup 2018-01-23 19:00:00          9       16.0            \n",
       "28   1400  The Startup 2018-01-23 19:00:00         11       13.0            \n",
       "29   3100  The Startup 2018-01-22 19:00:00          9       21.0            \n",
       "30   1800  The Startup 2018-01-22 19:00:00          7        3.0            \n",
       "31   1000  The Startup 2018-01-22 19:00:00          4        3.0            \n",
       "\n",
       "                                                title  \\\n",
       "27                          Playing with word vectors   \n",
       "28  The Ultimate Guide to Chatbots for Lead Genera...   \n",
       "29                     One year of Coding got me HERE   \n",
       "30               Basic B*tch’s Guide to Growing Money   \n",
       "31  4 Reasons Why Beginning Programmers Should Use...   \n",
       "\n",
       "                                      combined_titles  \\\n",
       "27                          Playing with word vectors   \n",
       "28  The Ultimate Guide to Chatbots for Lead Genera...   \n",
       "29                     One year of Coding got me HERE   \n",
       "30               Basic B*tch’s Guide to Growing Money   \n",
       "31  4 Reasons Why Beginning Programmers Should Use...   \n",
       "\n",
       "    flesch_kincaid_grade_level  years  months  \\\n",
       "27                         1.3   2018       1   \n",
       "28                         8.8   2018       1   \n",
       "29                        -1.2   2018       1   \n",
       "30                         2.1   2018       1   \n",
       "31                         5.2   2018       1   \n",
       "\n",
       "                                       combined_lower  cluster  engaging  \\\n",
       "27                          playing with word vectors        1      True   \n",
       "28  the ultimate guide to chatbots for lead genera...        1      True   \n",
       "29                     one year of coding got me here        1      True   \n",
       "30               basic b*tch’s guide to growing money        7      True   \n",
       "31  4 reasons why beginning programmers should use...        6      True   \n",
       "\n",
       "    zscore_flesch  zscore_time  \n",
       "27       1.036521     0.767263  \n",
       "28       0.491941     1.320009  \n",
       "29       1.546008     0.767263  \n",
       "30       0.873485     0.214516  \n",
       "31       0.241721     0.614603  "
      ]
     },
     "execution_count": 137,
     "metadata": {},
     "output_type": "execute_result"
    }
   ],
   "source": [
    "df_final['engaging'] = df_final.groupby('publication')['claps'].transform(lambda x: x.mean() ) <= df_final['claps'] \n",
    "df_final.head()"
   ]
  },
  {
   "cell_type": "code",
   "execution_count": 138,
   "id": "e6a25379",
   "metadata": {},
   "outputs": [
    {
     "name": "stdout",
     "output_type": "stream",
     "text": [
      "Engagement: 19.83%\n"
     ]
    }
   ],
   "source": [
    "engaging = df_final['engaging'][df_final['engaging'] == True ]\n",
    "print(f'Engagement: {engaging.shape[0] / df_final.shape[0] * 100:.2f}%')"
   ]
  },
  {
   "cell_type": "code",
   "execution_count": 139,
   "id": "6be47a4a",
   "metadata": {},
   "outputs": [
    {
     "data": {
      "text/plain": [
       "Text(0.5, 1.0, 'Reading Time')"
      ]
     },
     "execution_count": 139,
     "metadata": {},
     "output_type": "execute_result"
    },
    {
     "data": {
      "image/png": "[encoded data removed]",
      "text/plain": [
       "<Figure size 432x288 with 1 Axes>"
      ]
     },
     "metadata": {
      "needs_background": "light"
     },
     "output_type": "display_data"
    }
   ],
   "source": [
    "ax = sns.boxplot(x='engaging', y='read_time', data=df_final)\n",
    "ax.set_title('Reading Time')"
   ]
  },
  {
   "cell_type": "code",
   "execution_count": 140,
   "id": "bf94b3bf",
   "metadata": {},
   "outputs": [
    {
     "data": {
      "text/plain": [
       "Text(0.5, 1.0, 'Flesch Kincaid Grade Level')"
      ]
     },
     "execution_count": 140,
     "metadata": {},
     "output_type": "execute_result"
    },
    {
     "data": {
      "image/png": "[encoded data removed]",
      "text/plain": [
       "<Figure size 432x288 with 1 Axes>"
      ]
     },
     "metadata": {
      "needs_background": "light"
     },
     "output_type": "display_data"
    }
   ],
   "source": [
    "ax = sns.boxplot(x='engaging', y='flesch_kincaid_grade_level', data=data_with_cluster)\n",
    "ax.set_title('Flesch Kincaid Grade Level')"
   ]
  },
  {
   "cell_type": "code",
   "execution_count": 142,
   "id": "06ff65a5",
   "metadata": {},
   "outputs": [
    {
     "data": {
      "image/png": "[encoded data removed]",
      "text/plain": [
       "<Figure size 432x288 with 1 Axes>"
      ]
     },
     "metadata": {
      "needs_background": "light"
     },
     "output_type": "display_data"
    }
   ],
   "source": [
    "ax = sns.countplot(x='cluster', data=df_final, hue='engaging')\n",
    "ax.set_title('cluster vs engaging'.replace('_', ' ').title())\n",
    "for p, q in enumerate(ax.patches):\n",
    "    height = q.get_height()\n",
    "    ax.text(q.get_x()+q.get_width()/2., height + 20, height, ha=\"center\")"
   ]
  },
  {
   "cell_type": "markdown",
   "id": "ddcc0cfe",
   "metadata": {},
   "source": [
    "Linear Regression"
   ]
  },
  {
   "cell_type": "code",
   "execution_count": 145,
   "id": "d38a1f04",
   "metadata": {},
   "outputs": [],
   "source": [
    "df_final.drop(['article_url', 'author', 'claps', 'publication', 'published_date', 'responses', 'subtitle', 'title', 'combined_titles', 'years', 'months', 'combined_lower', 'zscore_flesch', 'zscore_time'], axis=1, inplace=True)"
   ]
  },
  {
   "cell_type": "code",
   "execution_count": 153,
   "id": "852c8aba",
   "metadata": {},
   "outputs": [],
   "source": [
    "df_dummies = pd.get_dummies(df_final, columns=['cluster'], drop_first=True)\n"
   ]
  },
  {
   "cell_type": "code",
   "execution_count": 161,
   "id": "0e874337",
   "metadata": {},
   "outputs": [],
   "source": [
    "y = df_dummies['engaging'].values\n",
    "X = df_dummies.drop('engaging', axis=1)"
   ]
  },
  {
   "cell_type": "code",
   "execution_count": null,
   "id": "95714f04",
   "metadata": {},
   "outputs": [
    {
     "data": {
      "image/png": "[encoded data removed]",
      "text/plain": [
       "<Figure size 432x288 with 1 Axes>"
      ]
     },
     "metadata": {},
     "output_type": "display_data"
    }
   ],
   "source": [
    "ax = sns.countplot(x='cluster', data=df_final, hue='engaging')\n",
    "ax.set_title('cluster vs engaging'.replace('_', ' ').title())\n",
    "for p, q in enumerate(ax.patches):\n",
    "    height = q.get_height()\n",
    "    ax.text(q.get_x()+q.get_width()/2., height + 20, height, ha=\"center\")"
   ]
  },
  {
   "cell_type": "code",
   "execution_count": 162,
   "id": "f36ac589",
   "metadata": {},
   "outputs": [],
   "source": [
    "from sklearn.model_selection import train_test_split\n",
    "X_train, X_test, y_train, y_test = train_test_split(X, y, test_size=0.2, random_state=101)"
   ]
  },
  {
   "cell_type": "code",
   "execution_count": 164,
   "id": "cab7051c",
   "metadata": {},
   "outputs": [],
   "source": [
    "# Running logistic regression model\n",
    "from sklearn.linear_model import LogisticRegression\n",
    "model = LogisticRegression(max_iter=500)\n",
    "result = model.fit(X_train, y_train )"
   ]
  },
  {
   "cell_type": "code",
   "execution_count": 165,
   "id": "e823cf67",
   "metadata": {},
   "outputs": [
    {
     "name": "stdout",
     "output_type": "stream",
     "text": [
      "0.8040424803014731\n"
     ]
    }
   ],
   "source": [
    "from sklearn import metrics\n",
    "prediction_test = model.predict(X_test)\n",
    "# Print the prediction accuracy\n",
    "print(metrics.accuracy_score(y_test, prediction_test))"
   ]
  },
  {
   "cell_type": "code",
   "execution_count": 168,
   "id": "eb035338",
   "metadata": {},
   "outputs": [
    {
     "name": "stdout",
     "output_type": "stream",
     "text": [
      "AxesSubplot(0.125,0.125;0.775x0.755)\n"
     ]
    },
    {
     "data": {
      "image/png": "[encoded data removed]",
      "text/plain": [
       "<Figure size 432x288 with 1 Axes>"
      ]
     },
     "metadata": {
      "needs_background": "light"
     },
     "output_type": "display_data"
    }
   ],
   "source": [
    "# To get the weights of all the variables\n",
    "weights = pd.Series(model.coef_[0],\n",
    "                 index=X.columns.values)\n",
    "print(weights.sort_values(ascending = False)[:7].plot(kind='bar'))"
   ]
  },
  {
   "cell_type": "code",
   "execution_count": 169,
   "id": "0443984c",
   "metadata": {},
   "outputs": [
    {
     "name": "stdout",
     "output_type": "stream",
     "text": [
      "AxesSubplot(0.125,0.125;0.775x0.755)\n"
     ]
    },
    {
     "data": {
      "image/png": "[encoded data removed]",
      "text/plain": [
       "<Figure size 432x288 with 1 Axes>"
      ]
     },
     "metadata": {
      "needs_background": "light"
     },
     "output_type": "display_data"
    }
   ],
   "source": [
    "print(weights.sort_values(ascending = False)[-7:].plot(kind='bar'))\n"
   ]
  }
 ],
 "metadata": {
  "kernelspec": {
   "display_name": "Python 3 (ipykernel)",
   "language": "python",
   "name": "python3"
  },
  "language_info": {
   "codemirror_mode": {
    "name": "ipython",
    "version": 3
   },
   "file_extension": ".py",
   "mimetype": "text/x-python",
   "name": "python",
   "nbconvert_exporter": "python",
   "pygments_lexer": "ipython3",
   "version": "3.7.7"
  }
 },
 "nbformat": 4,
 "nbformat_minor": 5
}
